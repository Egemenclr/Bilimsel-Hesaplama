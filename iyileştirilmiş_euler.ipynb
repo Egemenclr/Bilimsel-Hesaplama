{
 "cells": [
  {
   "cell_type": "code",
   "execution_count": 6,
   "metadata": {},
   "outputs": [
    {
     "name": "stdout",
     "output_type": "stream",
     "text": [
      "h:1\n",
      "iterasyon:7\n"
     ]
    },
    {
     "data": {
      "text/plain": [
       "0.4134870337995338"
      ]
     },
     "execution_count": 6,
     "metadata": {},
     "output_type": "execute_result"
    }
   ],
   "source": [
    "def f(x,y):\n",
    "    return -y/x\n",
    "\n",
    "h=float(input(\"h:\"))\n",
    "y4=3/4\n",
    "t=y4\n",
    "sonuc=y4\n",
    "iterasyon=int(input(\"iterasyon:\"))\n",
    "for i in range(4,iterasyon):\n",
    "    t+=f(i,t)*h/2\n",
    "    sonuc+=f(i+1/2,t)*h\n",
    "    \n",
    "sonuc"
   ]
  },
  {
   "cell_type": "code",
   "execution_count": null,
   "metadata": {},
   "outputs": [],
   "source": []
  }
 ],
 "metadata": {
  "kernelspec": {
   "display_name": "Python 3",
   "language": "python",
   "name": "python3"
  },
  "language_info": {
   "codemirror_mode": {
    "name": "ipython",
    "version": 3
   },
   "file_extension": ".py",
   "mimetype": "text/x-python",
   "name": "python",
   "nbconvert_exporter": "python",
   "pygments_lexer": "ipython3",
   "version": "3.6.5"
  }
 },
 "nbformat": 4,
 "nbformat_minor": 2
}
